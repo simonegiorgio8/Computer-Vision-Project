{
  "nbformat": 4,
  "nbformat_minor": 0,
  "metadata": {
    "colab": {
      "provenance": []
    },
    "kernelspec": {
      "name": "python3",
      "display_name": "Python 3"
    },
    "language_info": {
      "name": "python"
    },
    "widgets": {
      "application/vnd.jupyter.widget-state+json": {
        "09a9bb05f0d04953adc2143fe0b6d6c5": {
          "model_module": "@jupyter-widgets/controls",
          "model_name": "HBoxModel",
          "model_module_version": "1.5.0",
          "state": {
            "_view_name": "HBoxView",
            "_dom_classes": [],
            "_model_name": "HBoxModel",
            "_view_module": "@jupyter-widgets/controls",
            "_model_module_version": "1.5.0",
            "_view_count": null,
            "_view_module_version": "1.5.0",
            "box_style": "",
            "layout": "IPY_MODEL_fc6b93fa68f742c1b332a6b7edad0d26",
            "_model_module": "@jupyter-widgets/controls",
            "children": [
              "IPY_MODEL_1e00a786159c43849a83133a01b13880",
              "IPY_MODEL_73e56a58f84847038220b1d62c71fa2b",
              "IPY_MODEL_682681031c1e4e308056522ed446798d"
            ]
          }
        },
        "fc6b93fa68f742c1b332a6b7edad0d26": {
          "model_module": "@jupyter-widgets/base",
          "model_name": "LayoutModel",
          "model_module_version": "1.2.0",
          "state": {
            "_view_name": "LayoutView",
            "grid_template_rows": null,
            "right": null,
            "justify_content": null,
            "_view_module": "@jupyter-widgets/base",
            "overflow": null,
            "_model_module_version": "1.2.0",
            "_view_count": null,
            "flex_flow": null,
            "width": null,
            "min_width": null,
            "border": null,
            "align_items": null,
            "bottom": null,
            "_model_module": "@jupyter-widgets/base",
            "top": null,
            "grid_column": null,
            "overflow_y": null,
            "overflow_x": null,
            "grid_auto_flow": null,
            "grid_area": null,
            "grid_template_columns": null,
            "flex": null,
            "_model_name": "LayoutModel",
            "justify_items": null,
            "grid_row": null,
            "max_height": null,
            "align_content": null,
            "visibility": null,
            "align_self": null,
            "height": null,
            "min_height": null,
            "padding": null,
            "grid_auto_rows": null,
            "grid_gap": null,
            "max_width": null,
            "order": null,
            "_view_module_version": "1.2.0",
            "grid_template_areas": null,
            "object_position": null,
            "object_fit": null,
            "grid_auto_columns": null,
            "margin": null,
            "display": null,
            "left": null
          }
        },
        "1e00a786159c43849a83133a01b13880": {
          "model_module": "@jupyter-widgets/controls",
          "model_name": "HTMLModel",
          "model_module_version": "1.5.0",
          "state": {
            "_view_name": "HTMLView",
            "style": "IPY_MODEL_9f34aeb4ebc6435dae99005c2b95c782",
            "_dom_classes": [],
            "description": "",
            "_model_name": "HTMLModel",
            "placeholder": "​",
            "_view_module": "@jupyter-widgets/controls",
            "_model_module_version": "1.5.0",
            "value": "100%",
            "_view_count": null,
            "_view_module_version": "1.5.0",
            "description_tooltip": null,
            "_model_module": "@jupyter-widgets/controls",
            "layout": "IPY_MODEL_b302a45e22e54e949ebbccdc19cbb76f"
          }
        },
        "73e56a58f84847038220b1d62c71fa2b": {
          "model_module": "@jupyter-widgets/controls",
          "model_name": "FloatProgressModel",
          "model_module_version": "1.5.0",
          "state": {
            "_view_name": "ProgressView",
            "style": "IPY_MODEL_b2969c85292e472f8ab1245bfe9a8185",
            "_dom_classes": [],
            "description": "",
            "_model_name": "FloatProgressModel",
            "bar_style": "success",
            "max": 574673361,
            "_view_module": "@jupyter-widgets/controls",
            "_model_module_version": "1.5.0",
            "value": 574673361,
            "_view_count": null,
            "_view_module_version": "1.5.0",
            "orientation": "horizontal",
            "min": 0,
            "description_tooltip": null,
            "_model_module": "@jupyter-widgets/controls",
            "layout": "IPY_MODEL_d4fc397d615743dc91f23adf8f69cd4a"
          }
        },
        "682681031c1e4e308056522ed446798d": {
          "model_module": "@jupyter-widgets/controls",
          "model_name": "HTMLModel",
          "model_module_version": "1.5.0",
          "state": {
            "_view_name": "HTMLView",
            "style": "IPY_MODEL_729edf5a4ecd4b80913c476272dd7e17",
            "_dom_classes": [],
            "description": "",
            "_model_name": "HTMLModel",
            "placeholder": "​",
            "_view_module": "@jupyter-widgets/controls",
            "_model_module_version": "1.5.0",
            "value": " 548M/548M [00:04&lt;00:00, 153MB/s]",
            "_view_count": null,
            "_view_module_version": "1.5.0",
            "description_tooltip": null,
            "_model_module": "@jupyter-widgets/controls",
            "layout": "IPY_MODEL_5dd1c0498fc04effb8fca02f990bd0c4"
          }
        },
        "9f34aeb4ebc6435dae99005c2b95c782": {
          "model_module": "@jupyter-widgets/controls",
          "model_name": "DescriptionStyleModel",
          "model_module_version": "1.5.0",
          "state": {
            "_view_name": "StyleView",
            "_model_name": "DescriptionStyleModel",
            "description_width": "",
            "_view_module": "@jupyter-widgets/base",
            "_model_module_version": "1.5.0",
            "_view_count": null,
            "_view_module_version": "1.2.0",
            "_model_module": "@jupyter-widgets/controls"
          }
        },
        "b302a45e22e54e949ebbccdc19cbb76f": {
          "model_module": "@jupyter-widgets/base",
          "model_name": "LayoutModel",
          "model_module_version": "1.2.0",
          "state": {
            "_view_name": "LayoutView",
            "grid_template_rows": null,
            "right": null,
            "justify_content": null,
            "_view_module": "@jupyter-widgets/base",
            "overflow": null,
            "_model_module_version": "1.2.0",
            "_view_count": null,
            "flex_flow": null,
            "width": null,
            "min_width": null,
            "border": null,
            "align_items": null,
            "bottom": null,
            "_model_module": "@jupyter-widgets/base",
            "top": null,
            "grid_column": null,
            "overflow_y": null,
            "overflow_x": null,
            "grid_auto_flow": null,
            "grid_area": null,
            "grid_template_columns": null,
            "flex": null,
            "_model_name": "LayoutModel",
            "justify_items": null,
            "grid_row": null,
            "max_height": null,
            "align_content": null,
            "visibility": null,
            "align_self": null,
            "height": null,
            "min_height": null,
            "padding": null,
            "grid_auto_rows": null,
            "grid_gap": null,
            "max_width": null,
            "order": null,
            "_view_module_version": "1.2.0",
            "grid_template_areas": null,
            "object_position": null,
            "object_fit": null,
            "grid_auto_columns": null,
            "margin": null,
            "display": null,
            "left": null
          }
        },
        "b2969c85292e472f8ab1245bfe9a8185": {
          "model_module": "@jupyter-widgets/controls",
          "model_name": "ProgressStyleModel",
          "model_module_version": "1.5.0",
          "state": {
            "_view_name": "StyleView",
            "_model_name": "ProgressStyleModel",
            "description_width": "",
            "_view_module": "@jupyter-widgets/base",
            "_model_module_version": "1.5.0",
            "_view_count": null,
            "_view_module_version": "1.2.0",
            "bar_color": null,
            "_model_module": "@jupyter-widgets/controls"
          }
        },
        "d4fc397d615743dc91f23adf8f69cd4a": {
          "model_module": "@jupyter-widgets/base",
          "model_name": "LayoutModel",
          "model_module_version": "1.2.0",
          "state": {
            "_view_name": "LayoutView",
            "grid_template_rows": null,
            "right": null,
            "justify_content": null,
            "_view_module": "@jupyter-widgets/base",
            "overflow": null,
            "_model_module_version": "1.2.0",
            "_view_count": null,
            "flex_flow": null,
            "width": null,
            "min_width": null,
            "border": null,
            "align_items": null,
            "bottom": null,
            "_model_module": "@jupyter-widgets/base",
            "top": null,
            "grid_column": null,
            "overflow_y": null,
            "overflow_x": null,
            "grid_auto_flow": null,
            "grid_area": null,
            "grid_template_columns": null,
            "flex": null,
            "_model_name": "LayoutModel",
            "justify_items": null,
            "grid_row": null,
            "max_height": null,
            "align_content": null,
            "visibility": null,
            "align_self": null,
            "height": null,
            "min_height": null,
            "padding": null,
            "grid_auto_rows": null,
            "grid_gap": null,
            "max_width": null,
            "order": null,
            "_view_module_version": "1.2.0",
            "grid_template_areas": null,
            "object_position": null,
            "object_fit": null,
            "grid_auto_columns": null,
            "margin": null,
            "display": null,
            "left": null
          }
        },
        "729edf5a4ecd4b80913c476272dd7e17": {
          "model_module": "@jupyter-widgets/controls",
          "model_name": "DescriptionStyleModel",
          "model_module_version": "1.5.0",
          "state": {
            "_view_name": "StyleView",
            "_model_name": "DescriptionStyleModel",
            "description_width": "",
            "_view_module": "@jupyter-widgets/base",
            "_model_module_version": "1.5.0",
            "_view_count": null,
            "_view_module_version": "1.2.0",
            "_model_module": "@jupyter-widgets/controls"
          }
        },
        "5dd1c0498fc04effb8fca02f990bd0c4": {
          "model_module": "@jupyter-widgets/base",
          "model_name": "LayoutModel",
          "model_module_version": "1.2.0",
          "state": {
            "_view_name": "LayoutView",
            "grid_template_rows": null,
            "right": null,
            "justify_content": null,
            "_view_module": "@jupyter-widgets/base",
            "overflow": null,
            "_model_module_version": "1.2.0",
            "_view_count": null,
            "flex_flow": null,
            "width": null,
            "min_width": null,
            "border": null,
            "align_items": null,
            "bottom": null,
            "_model_module": "@jupyter-widgets/base",
            "top": null,
            "grid_column": null,
            "overflow_y": null,
            "overflow_x": null,
            "grid_auto_flow": null,
            "grid_area": null,
            "grid_template_columns": null,
            "flex": null,
            "_model_name": "LayoutModel",
            "justify_items": null,
            "grid_row": null,
            "max_height": null,
            "align_content": null,
            "visibility": null,
            "align_self": null,
            "height": null,
            "min_height": null,
            "padding": null,
            "grid_auto_rows": null,
            "grid_gap": null,
            "max_width": null,
            "order": null,
            "_view_module_version": "1.2.0",
            "grid_template_areas": null,
            "object_position": null,
            "object_fit": null,
            "grid_auto_columns": null,
            "margin": null,
            "display": null,
            "left": null
          }
        }
      }
    }
  },
  "cells": [
    {
      "cell_type": "markdown",
      "source": [
        "**Progetto Simone Giorgio, matricola 214575**"
      ],
      "metadata": {
        "id": "s0R4WdetUyVv"
      }
    },
    {
      "cell_type": "code",
      "source": [
        "SEED = 9246\n",
        "\n",
        "import os\n",
        "import json\n",
        "import time\n",
        "from datetime import datetime\n",
        "import collections\n",
        "import torch\n",
        "import torch.nn as nn\n",
        "from torch import optim\n",
        "import torch.nn.functional as F\n",
        "from torch.utils.data import Dataset, DataLoader\n",
        "import torchvision\n",
        "from torchvision import models\n",
        "\n",
        "from PIL import Image\n",
        "\n",
        "from skimage import io\n",
        "import pandas as pd\n",
        "import numpy as np\n",
        "np.random.seed(SEED)\n",
        "\n",
        "import matplotlib.pyplot as plt\n",
        "%matplotlib inline\n",
        "\n",
        "from sklearn.metrics import classification_report\n",
        "from torch.nn.modules.utils import _triple\n",
        "import math\n",
        "\n",
        "import torchsummary\n",
        "\n",
        "torch.manual_seed(SEED)\n",
        "torch.backends.cudnn.deterministic = True\n",
        "torch.backends.cudnn.benchmark = False\n",
        "\n",
        "\n",
        "CUDA = torch.cuda.is_available()\n",
        "device = torch.device(\"cuda\" if CUDA else \"cpu\")\n",
        "\n",
        "if CUDA:\n",
        "    print('run on %s' % device)"
      ],
      "metadata": {
        "id": "DnK0YfIsUze3"
      },
      "execution_count": null,
      "outputs": []
    },
    {
      "cell_type": "code",
      "source": [
        "from google.colab import drive\n",
        "drive.mount('/content/drive')"
      ],
      "metadata": {
        "colab": {
          "base_uri": "https://localhost:8080/"
        },
        "id": "PrXdWmraVcx5",
        "outputId": "8ebcfa49-2403-4025-8182-d94bf8fc2dff"
      },
      "execution_count": null,
      "outputs": [
        {
          "output_type": "stream",
          "name": "stdout",
          "text": [
            "Mounted at /content/drive\n"
          ]
        }
      ]
    },
    {
      "cell_type": "code",
      "source": [
        "cd '/content/drive/My Drive/'"
      ],
      "metadata": {
        "colab": {
          "base_uri": "https://localhost:8080/"
        },
        "id": "knZA3ZdLVeYH",
        "outputId": "b84edb17-e60f-415d-c4df-d4db301ad61b"
      },
      "execution_count": null,
      "outputs": [
        {
          "output_type": "stream",
          "name": "stdout",
          "text": [
            "/content/drive/My Drive\n"
          ]
        }
      ]
    },
    {
      "cell_type": "code",
      "source": [
        "DATASET_DIR = 'ComputerVision/progetto_2021_dataset'\n",
        "DRIVE_FOLDER = 'ComputerVision/model_checkpoint'\n",
        "\n",
        "JSON_DATA_OLD = 'ComputerVision/progetto_2021_dataset/train_test_split_dict.json'\n",
        "\n",
        "with open(JSON_DATA_OLD) as fp:\n",
        "    dataset_json = json.load(fp)\n",
        "\n",
        "print(len(dataset_json[\"train\"]))"
      ],
      "metadata": {
        "colab": {
          "base_uri": "https://localhost:8080/"
        },
        "id": "fan-LmGeVgdP",
        "outputId": "be64cc64-c0c7-4f63-ddc2-8238017dc1f4"
      },
      "execution_count": null,
      "outputs": [
        {
          "output_type": "stream",
          "name": "stdout",
          "text": [
            "4292\n"
          ]
        }
      ]
    },
    {
      "cell_type": "code",
      "source": [
        "DATASET_DIR = 'ComputerVision/progetto_2021_dataset'\n",
        "DRIVE_FOLDER = 'ComputerVision/model_checkpoint'\n",
        "\n",
        "JSON_DATA = 'ComputerVision/train_test_split_dict_UNDERSAMPLING1.json'\n",
        "\n",
        "with open(JSON_DATA) as fp:\n",
        "    dataset_json = json.load(fp)\n",
        "\n",
        "print(len(dataset_json[\"train\"]))"
      ],
      "metadata": {
        "colab": {
          "base_uri": "https://localhost:8080/"
        },
        "id": "7lyiuC8ejbcD",
        "outputId": "8a191e0b-42d4-480d-cbcf-bc5b23105fd4"
      },
      "execution_count": null,
      "outputs": [
        {
          "output_type": "stream",
          "name": "stdout",
          "text": [
            "3914\n"
          ]
        }
      ]
    },
    {
      "cell_type": "code",
      "source": [
        "labels = set()\n",
        "\n",
        "for k in dataset_json.values():\n",
        "    for lable_list in k.values():\n",
        "        for v in lable_list:\n",
        "            labels.add(v)\n",
        "\n",
        "label_idx = {v: i for i, v in enumerate(sorted(labels))}\n",
        "\n",
        "print(len(label_idx))"
      ],
      "metadata": {
        "colab": {
          "base_uri": "https://localhost:8080/"
        },
        "id": "dvT54qLEWHuw",
        "outputId": "3778c578-280b-45de-b890-744a0e31bd2c"
      },
      "execution_count": null,
      "outputs": [
        {
          "output_type": "stream",
          "name": "stdout",
          "text": [
            "85\n"
          ]
        }
      ]
    },
    {
      "cell_type": "markdown",
      "source": [
        "**Data Analysis**"
      ],
      "metadata": {
        "id": "TGL9ACFdwowy"
      }
    },
    {
      "cell_type": "code",
      "source": [
        "files=np.array(list(dataset_json['train'].keys()))\n",
        "diz=dataset_json['train']\n",
        "totale=torch.zeros(len(label_idx), dtype=torch.float32)\n",
        "for name in files:\n",
        "  labels = torch.zeros(len(label_idx), dtype=torch.float32)\n",
        "  for label in diz[name]:\n",
        "    labels[label_idx[label]] = 1\n",
        "  totale+=labels\n",
        "\n",
        "etichette=np.array(list(label_idx.keys()))\n",
        "\n",
        "plt.figure(figsize=(20,5))\n",
        "plt.bar(etichette,totale)\n",
        "plt.xticks(rotation=80)\n",
        "plt.show()"
      ],
      "metadata": {
        "colab": {
          "base_uri": "https://localhost:8080/",
          "height": 410
        },
        "id": "HMEs1lU-WYng",
        "outputId": "218d4ad5-b400-46b9-c272-6c471fb4d75d"
      },
      "execution_count": null,
      "outputs": [
        {
          "output_type": "display_data",
          "data": {
            "image/png": "[encoded data removed]",
            "text/plain": [
              "<Figure size 1440x360 with 1 Axes>"
            ]
          },
          "metadata": {
            "needs_background": "light"
          }
        }
      ]
    },
    {
      "cell_type": "code",
      "source": [
        "files = os.listdir(DATASET_DIR)\n",
        "\n",
        "dic = {}\n",
        "for f in files:\n",
        "    if '.json' not in f:\n",
        "        leng = len(os.listdir(os.path.join(DATASET_DIR,f)))\n",
        "        if leng not in dic:\n",
        "            dic[leng]=0\n",
        "        dic[leng] +=1\n",
        "\n",
        "\n",
        "dic = dict(sorted(dic.items(), key=lambda item: item[0]))\n",
        "numeroFrame = [*map(str,dic.keys())]\n",
        "occorrenze = list(dic.values())\n",
        "\n",
        "plt.figure(figsize=(20,5))\n",
        "plt.title(\"numero di frame x trailer\")\n",
        "plt.bar(numeroFrame,occorrenze)\n",
        "plt.xticks(rotation=80)\n",
        "plt.show()"
      ],
      "metadata": {
        "colab": {
          "base_uri": "https://localhost:8080/",
          "height": 340
        },
        "id": "mZyWctY7b9Tp",
        "outputId": "4b2a42a5-0536-4ee5-b9e8-0c6a05432a3b"
      },
      "execution_count": null,
      "outputs": [
        {
          "output_type": "display_data",
          "data": {
            "image/png": "[encoded data removed]",
            "text/plain": [
              "<Figure size 1440x360 with 1 Axes>"
            ]
          },
          "metadata": {
            "needs_background": "light"
          }
        }
      ]
    },
    {
      "cell_type": "markdown",
      "source": [
        "**Load Data**"
      ],
      "metadata": {
        "id": "RBTDUFYHw4v3"
      }
    },
    {
      "cell_type": "code",
      "source": [
        "class VideoDataset(Dataset):\n",
        "\n",
        "    def __init__(self, dataset_folder, labels_dict, transform=None, limit=15):\n",
        "        \"\"\"\n",
        "        Args:\n",
        "            dataset_folder (string): Path to the folder with mp4 files.\n",
        "            labels_dict (dict): dict filename - list of label.\n",
        "            transform (callable, optional): Optional transform to be applied\n",
        "                on a sample.\n",
        "        \"\"\"\n",
        "        self.labels_dict = labels_dict\n",
        "        self.root_dir = dataset_folder\n",
        "        self.limit = limit\n",
        "        self.transform = transform or torchvision.transforms.ToTensor()\n",
        "\n",
        "        self._files = np.array(list(self.labels_dict.keys()))\n",
        "\n",
        "    def __len__(self):\n",
        "        return len(self.labels_dict)\n",
        "\n",
        "    def __getitem__(self, idx):\n",
        "        name = self._files[idx]   #nome cartella trailer\n",
        "\n",
        "        x = torch.zeros(self.limit, 3, 224, 224)\n",
        "        folder_pattern = os.path.join(self.root_dir, name, '*.png')\n",
        "        images = io.imread_collection(folder_pattern)\n",
        "\n",
        "        for i, image in enumerate(images):\n",
        "            if i < self.limit:\n",
        "                image = self.transform(Image.fromarray(image))\n",
        "                x[i] = image.unsqueeze(0)\n",
        "\n",
        "        #calcolo etichette per trailer\n",
        "        labels = torch.zeros(len(label_idx), dtype=torch.float32)\n",
        "        for label in self.labels_dict[name]:\n",
        "            labels[label_idx[label]] = 1\n",
        "\n",
        "        return x, labels"
      ],
      "metadata": {
        "id": "bjVgoDFrWLPQ"
      },
      "execution_count": null,
      "outputs": []
    },
    {
      "cell_type": "code",
      "source": [
        "transformations = torchvision.transforms.Compose([torchvision.transforms.CenterCrop(224),\n",
        "                                                  torchvision.transforms.ToTensor()])\n",
        "\n",
        "datasetTrain = VideoDataset(DATASET_DIR, dataset_json['train'], transformations)\n",
        "datasetTest = VideoDataset(DATASET_DIR, dataset_json['test'], transformations)\n",
        "\n",
        "print(len(datasetTrain))\n",
        "print(len(datasetTest))"
      ],
      "metadata": {
        "colab": {
          "base_uri": "https://localhost:8080/"
        },
        "id": "1Ovx7XcZWNY2",
        "outputId": "e17baa36-02bb-42f3-b303-1c4c214fd2f7"
      },
      "execution_count": null,
      "outputs": [
        {
          "output_type": "stream",
          "name": "stdout",
          "text": [
            "3914\n",
            "1112\n"
          ]
        }
      ]
    },
    {
      "cell_type": "code",
      "source": [
        "batch_size = 16\n",
        "trainingDataLoader = torch.utils.data.DataLoader(datasetTrain,\n",
        "                                                 batch_size=batch_size,\n",
        "                                                 shuffle=True,\n",
        "                                                 num_workers=2,\n",
        "                                                 drop_last=True)\n",
        "testDataLoader = torch.utils.data.DataLoader(datasetTest,\n",
        "                                             batch_size=batch_size,\n",
        "                                             shuffle=True,\n",
        "                                             drop_last=True,\n",
        "                                             num_workers=2)"
      ],
      "metadata": {
        "id": "dWW2dgVVWPUO"
      },
      "execution_count": null,
      "outputs": []
    },
    {
      "cell_type": "markdown",
      "source": [
        "**Model**"
      ],
      "metadata": {
        "id": "8NUY84NWxBty"
      }
    },
    {
      "cell_type": "code",
      "source": [
        "import torchvision.models as models\n",
        "\n",
        "vgg = models.vgg19(pretrained = True)\n",
        "\n",
        "for params in vgg.parameters():\n",
        "  params.requires_grad = False"
      ],
      "metadata": {
        "colab": {
          "base_uri": "https://localhost:8080/",
          "height": 66,
          "referenced_widgets": [
            "09a9bb05f0d04953adc2143fe0b6d6c5",
            "fc6b93fa68f742c1b332a6b7edad0d26",
            "1e00a786159c43849a83133a01b13880",
            "73e56a58f84847038220b1d62c71fa2b",
            "682681031c1e4e308056522ed446798d",
            "9f34aeb4ebc6435dae99005c2b95c782",
            "b302a45e22e54e949ebbccdc19cbb76f",
            "b2969c85292e472f8ab1245bfe9a8185",
            "d4fc397d615743dc91f23adf8f69cd4a",
            "729edf5a4ecd4b80913c476272dd7e17",
            "5dd1c0498fc04effb8fca02f990bd0c4"
          ]
        },
        "id": "oQVYO2vIWQ9I",
        "outputId": "ed4e1d1d-6780-45d0-ed9e-f82650863534"
      },
      "execution_count": null,
      "outputs": [
        {
          "output_type": "stream",
          "name": "stderr",
          "text": [
            "Downloading: \"https://download.pytorch.org/models/vgg19-dcbb9e9d.pth\" to /root/.cache/torch/hub/checkpoints/vgg19-dcbb9e9d.pth\n"
          ]
        },
        {
          "output_type": "display_data",
          "data": {
            "application/vnd.jupyter.widget-view+json": {
              "model_id": "09a9bb05f0d04953adc2143fe0b6d6c5",
              "version_minor": 0,
              "version_major": 2
            },
            "text/plain": [
              "  0%|          | 0.00/548M [00:00<?, ?B/s]"
            ]
          },
          "metadata": {}
        }
      ]
    },
    {
      "cell_type": "code",
      "source": [
        "print(vgg)"
      ],
      "metadata": {
        "colab": {
          "base_uri": "https://localhost:8080/"
        },
        "id": "DX2OGma_Ymjw",
        "outputId": "dd61fe4c-cc4d-4595-82e6-060460cda922"
      },
      "execution_count": null,
      "outputs": [
        {
          "output_type": "stream",
          "name": "stdout",
          "text": [
            "VGG(\n",
            "  (features): Sequential(\n",
            "    (0): Conv2d(3, 64, kernel_size=(3, 3), stride=(1, 1), padding=(1, 1))\n",
            "    (1): ReLU(inplace=True)\n",
            "    (2): Conv2d(64, 64, kernel_size=(3, 3), stride=(1, 1), padding=(1, 1))\n",
            "    (3): ReLU(inplace=True)\n",
            "    (4): MaxPool2d(kernel_size=2, stride=2, padding=0, dilation=1, ceil_mode=False)\n",
            "    (5): Conv2d(64, 128, kernel_size=(3, 3), stride=(1, 1), padding=(1, 1))\n",
            "    (6): ReLU(inplace=True)\n",
            "    (7): Conv2d(128, 128, kernel_size=(3, 3), stride=(1, 1), padding=(1, 1))\n",
            "    (8): ReLU(inplace=True)\n",
            "    (9): MaxPool2d(kernel_size=2, stride=2, padding=0, dilation=1, ceil_mode=False)\n",
            "    (10): Conv2d(128, 256, kernel_size=(3, 3), stride=(1, 1), padding=(1, 1))\n",
            "    (11): ReLU(inplace=True)\n",
            "    (12): Conv2d(256, 256, kernel_size=(3, 3), stride=(1, 1), padding=(1, 1))\n",
            "    (13): ReLU(inplace=True)\n",
            "    (14): Conv2d(256, 256, kernel_size=(3, 3), stride=(1, 1), padding=(1, 1))\n",
            "    (15): ReLU(inplace=True)\n",
            "    (16): Conv2d(256, 256, kernel_size=(3, 3), stride=(1, 1), padding=(1, 1))\n",
            "    (17): ReLU(inplace=True)\n",
            "    (18): MaxPool2d(kernel_size=2, stride=2, padding=0, dilation=1, ceil_mode=False)\n",
            "    (19): Conv2d(256, 512, kernel_size=(3, 3), stride=(1, 1), padding=(1, 1))\n",
            "    (20): ReLU(inplace=True)\n",
            "    (21): Conv2d(512, 512, kernel_size=(3, 3), stride=(1, 1), padding=(1, 1))\n",
            "    (22): ReLU(inplace=True)\n",
            "    (23): Conv2d(512, 512, kernel_size=(3, 3), stride=(1, 1), padding=(1, 1))\n",
            "    (24): ReLU(inplace=True)\n",
            "    (25): Conv2d(512, 512, kernel_size=(3, 3), stride=(1, 1), padding=(1, 1))\n",
            "    (26): ReLU(inplace=True)\n",
            "    (27): MaxPool2d(kernel_size=2, stride=2, padding=0, dilation=1, ceil_mode=False)\n",
            "    (28): Conv2d(512, 512, kernel_size=(3, 3), stride=(1, 1), padding=(1, 1))\n",
            "    (29): ReLU(inplace=True)\n",
            "    (30): Conv2d(512, 512, kernel_size=(3, 3), stride=(1, 1), padding=(1, 1))\n",
            "    (31): ReLU(inplace=True)\n",
            "    (32): Conv2d(512, 512, kernel_size=(3, 3), stride=(1, 1), padding=(1, 1))\n",
            "    (33): ReLU(inplace=True)\n",
            "    (34): Conv2d(512, 512, kernel_size=(3, 3), stride=(1, 1), padding=(1, 1))\n",
            "    (35): ReLU(inplace=True)\n",
            "    (36): MaxPool2d(kernel_size=2, stride=2, padding=0, dilation=1, ceil_mode=False)\n",
            "  )\n",
            "  (avgpool): AdaptiveAvgPool2d(output_size=(7, 7))\n",
            "  (classifier): Sequential(\n",
            "    (0): Linear(in_features=25088, out_features=4096, bias=True)\n",
            "    (1): ReLU(inplace=True)\n",
            "    (2): Dropout(p=0.5, inplace=False)\n",
            "    (3): Linear(in_features=4096, out_features=4096, bias=True)\n",
            "    (4): ReLU(inplace=True)\n",
            "    (5): Dropout(p=0.5, inplace=False)\n",
            "    (6): Linear(in_features=4096, out_features=1000, bias=True)\n",
            "  )\n",
            ")\n"
          ]
        }
      ]
    },
    {
      "cell_type": "code",
      "source": [
        "import torch.nn.functional as F\n",
        "\n",
        "class SimoNet(nn.Module):\n",
        "  def __init__(self):\n",
        "    super(SimoNet, self).__init__()\n",
        "    self.featureVgg=vgg.features\n",
        "\n",
        "    self.classifier= nn.Sequential(\n",
        "        nn.Linear(25088 , 6656),\n",
        "        nn.ReLU(True),\n",
        "        nn.Dropout(),\n",
        "        nn.Linear(6656 , 1024),\n",
        "        nn.ReLU(True),\n",
        "        nn.Linear(1024 , 1024),\n",
        "        nn.ReLU(True),\n",
        "        nn.Dropout(),\n",
        "        nn.Linear(1024 , 85),\n",
        "        nn.Sigmoid()\n",
        "    )\n",
        "\n",
        "  def forward(self,x):  #x= batch, frames, c, h, w\n",
        "    batch= torch.zeros((16,512*7*7))  #batch, frame, dim_feature_map\n",
        "\n",
        "    i=0\n",
        "    for film in x:\n",
        "      output= self.featureVgg(film) # output ([15, 512, 7, 7])\n",
        "      output=output.reshape(15,512*7*7)\n",
        "      output=torch.mean(output, dim=0)\n",
        "      batch[i]=output\n",
        "      i+=1\n",
        "    result=self.classifier(batch.to(device))\n",
        "    return result"
      ],
      "metadata": {
        "id": "4mAaCJ6QYqlH"
      },
      "execution_count": null,
      "outputs": []
    },
    {
      "cell_type": "code",
      "source": [
        "model=SimoNet()\n",
        "model=model.to(device)\n",
        "\n",
        "optimizer= optim.Adam(model.parameters(),lr=0.0001)"
      ],
      "metadata": {
        "id": "ZuniKgvOYsoI"
      },
      "execution_count": null,
      "outputs": []
    },
    {
      "cell_type": "code",
      "source": [
        "print(model)"
      ],
      "metadata": {
        "colab": {
          "base_uri": "https://localhost:8080/"
        },
        "id": "Rwg6azHKYvun",
        "outputId": "a8c27f45-adc9-4e70-c400-0ff19fbc1eac"
      },
      "execution_count": null,
      "outputs": [
        {
          "output_type": "stream",
          "name": "stdout",
          "text": [
            "SimoNet(\n",
            "  (featureVgg): Sequential(\n",
            "    (0): Conv2d(3, 64, kernel_size=(3, 3), stride=(1, 1), padding=(1, 1))\n",
            "    (1): ReLU(inplace=True)\n",
            "    (2): Conv2d(64, 64, kernel_size=(3, 3), stride=(1, 1), padding=(1, 1))\n",
            "    (3): ReLU(inplace=True)\n",
            "    (4): MaxPool2d(kernel_size=2, stride=2, padding=0, dilation=1, ceil_mode=False)\n",
            "    (5): Conv2d(64, 128, kernel_size=(3, 3), stride=(1, 1), padding=(1, 1))\n",
            "    (6): ReLU(inplace=True)\n",
            "    (7): Conv2d(128, 128, kernel_size=(3, 3), stride=(1, 1), padding=(1, 1))\n",
            "    (8): ReLU(inplace=True)\n",
            "    (9): MaxPool2d(kernel_size=2, stride=2, padding=0, dilation=1, ceil_mode=False)\n",
            "    (10): Conv2d(128, 256, kernel_size=(3, 3), stride=(1, 1), padding=(1, 1))\n",
            "    (11): ReLU(inplace=True)\n",
            "    (12): Conv2d(256, 256, kernel_size=(3, 3), stride=(1, 1), padding=(1, 1))\n",
            "    (13): ReLU(inplace=True)\n",
            "    (14): Conv2d(256, 256, kernel_size=(3, 3), stride=(1, 1), padding=(1, 1))\n",
            "    (15): ReLU(inplace=True)\n",
            "    (16): Conv2d(256, 256, kernel_size=(3, 3), stride=(1, 1), padding=(1, 1))\n",
            "    (17): ReLU(inplace=True)\n",
            "    (18): MaxPool2d(kernel_size=2, stride=2, padding=0, dilation=1, ceil_mode=False)\n",
            "    (19): Conv2d(256, 512, kernel_size=(3, 3), stride=(1, 1), padding=(1, 1))\n",
            "    (20): ReLU(inplace=True)\n",
            "    (21): Conv2d(512, 512, kernel_size=(3, 3), stride=(1, 1), padding=(1, 1))\n",
            "    (22): ReLU(inplace=True)\n",
            "    (23): Conv2d(512, 512, kernel_size=(3, 3), stride=(1, 1), padding=(1, 1))\n",
            "    (24): ReLU(inplace=True)\n",
            "    (25): Conv2d(512, 512, kernel_size=(3, 3), stride=(1, 1), padding=(1, 1))\n",
            "    (26): ReLU(inplace=True)\n",
            "    (27): MaxPool2d(kernel_size=2, stride=2, padding=0, dilation=1, ceil_mode=False)\n",
            "    (28): Conv2d(512, 512, kernel_size=(3, 3), stride=(1, 1), padding=(1, 1))\n",
            "    (29): ReLU(inplace=True)\n",
            "    (30): Conv2d(512, 512, kernel_size=(3, 3), stride=(1, 1), padding=(1, 1))\n",
            "    (31): ReLU(inplace=True)\n",
            "    (32): Conv2d(512, 512, kernel_size=(3, 3), stride=(1, 1), padding=(1, 1))\n",
            "    (33): ReLU(inplace=True)\n",
            "    (34): Conv2d(512, 512, kernel_size=(3, 3), stride=(1, 1), padding=(1, 1))\n",
            "    (35): ReLU(inplace=True)\n",
            "    (36): MaxPool2d(kernel_size=2, stride=2, padding=0, dilation=1, ceil_mode=False)\n",
            "  )\n",
            "  (classifier): Sequential(\n",
            "    (0): Linear(in_features=25088, out_features=6656, bias=True)\n",
            "    (1): ReLU(inplace=True)\n",
            "    (2): Dropout(p=0.5, inplace=False)\n",
            "    (3): Linear(in_features=6656, out_features=1024, bias=True)\n",
            "    (4): ReLU(inplace=True)\n",
            "    (5): Linear(in_features=1024, out_features=1024, bias=True)\n",
            "    (6): ReLU(inplace=True)\n",
            "    (7): Dropout(p=0.5, inplace=False)\n",
            "    (8): Linear(in_features=1024, out_features=85, bias=True)\n",
            "    (9): Sigmoid()\n",
            "  )\n",
            ")\n"
          ]
        }
      ]
    },
    {
      "cell_type": "code",
      "source": [
        "criterion=nn.BCELoss()"
      ],
      "metadata": {
        "id": "oDsyk8ibYxcv"
      },
      "execution_count": null,
      "outputs": []
    },
    {
      "cell_type": "code",
      "source": [
        "CHECKPOINT = os.path.join(DRIVE_FOLDER, 'modelVGG19.checkpoint')\n",
        "MODELFILE = os.path.join(DRIVE_FOLDER, 'modelVGG19.pth')\n",
        "\n",
        "def save_checkpoint(epoch, model, optimizer, loss):\n",
        "    torch.save({\n",
        "            'epoch': epoch,\n",
        "            'model_state_dict': model.state_dict(),\n",
        "            'optimizer_state_dict': optimizer.state_dict(),\n",
        "            'loss': loss,\n",
        "            }, CHECKPOINT)\n",
        "\n",
        "def load_checkpoint(model, optimizer):\n",
        "    if not os.path.exists(CHECKPOINT):\n",
        "        return None, None\n",
        "    checkpoint = torch.load(CHECKPOINT)\n",
        "    model.load_state_dict(checkpoint['model_state_dict'])\n",
        "    optimizer.load_state_dict(checkpoint['optimizer_state_dict'])\n",
        "    epoch = checkpoint['epoch']\n",
        "    loss = checkpoint['loss']\n",
        "    return epoch, loss\n",
        "\n",
        "def save_model(model):\n",
        "    torch.save(model.state_dict(), MODELFILE)\n",
        "\n",
        "def load_model(model):\n",
        "    if os.path.exists(MODELFILE):\n",
        "        model.load_state_dict(torch.load(MODELFILE))"
      ],
      "metadata": {
        "id": "tIpcHN4cYzRv"
      },
      "execution_count": null,
      "outputs": []
    },
    {
      "cell_type": "markdown",
      "source": [
        "**Train**"
      ],
      "metadata": {
        "id": "1EkHE05exOQa"
      }
    },
    {
      "cell_type": "code",
      "execution_count": null,
      "metadata": {
        "colab": {
          "base_uri": "https://localhost:8080/"
        },
        "id": "saFeRpPx-MQ_",
        "outputId": "c83b6b1d-e28d-42e2-d9d1-6908e648185a"
      },
      "outputs": [
        {
          "name": "stdout",
          "output_type": "stream",
          "text": [
            "Start epoch 1\n",
            "input shape is torch.Size([16, 15, 3, 224, 224]), labels are torch.Size([16, 85])\n",
            "epoch 1/1 train loss: 0.120856 Labeled\n",
            "epoch 1/1 train loss: 0.108598 Labeled\n",
            "epoch 1/1 train loss: 0.110406 Labeled\n",
            "epoch 1/1 train loss: 0.111113 Labeled\n",
            "epoch 1/1 train loss: 0.112395 Labeled\n",
            "epoch 1/1 train loss: 0.112059 Labeled\n",
            "epoch 1/1 train loss: 0.109795 Labeled\n",
            "epoch 1/1 train loss: 0.109408 Labeled\n",
            "epoch 1/1 train loss: 0.109414 Labeled\n",
            "epoch 1/1 train loss: 0.110490 Labeled\n",
            "epoch 1/1 train loss: 0.109736 Labeled\n",
            "epoch 1/1 train loss: 0.109772 Labeled\n",
            "epoch 1/1 train loss: 0.109401 Labeled\n",
            "epoch 1/1 train loss: 0.109062 Labeled\n",
            "epoch 1/1 train loss: 0.108335 Labeled\n",
            "epoch 1/1 train loss: 0.108135 Labeled\n",
            "epoch 1/1 train loss: 0.107632 Labeled\n",
            "epoch 1/1 train loss: 0.107631 Labeled\n",
            "epoch 1/1 train loss: 0.107365 Labeled\n",
            "epoch 1/1 train loss: 0.107125 Labeled\n",
            "epoch 1/1 train loss: 0.107003 Labeled\n",
            "epoch 1/1 train loss: 0.106905 Labeled\n",
            "epoch 1/1 train loss: 0.106655 Labeled\n",
            "epoch 1/1 train loss: 0.106328 Labeled\n",
            "epoch 1/1 train loss: 0.106073 Labeled\n",
            "epoch 1/1 train loss: 0.105945 Labeled\n",
            "epoch 1/1 train loss: 0.106050 Labeled\n",
            "epoch 1/1 train loss: 0.106021 Labeled\n",
            "epoch 1/1 train loss: 0.106391 Labeled\n",
            "epoch 1/1 train loss: 0.105971 Labeled\n",
            "epoch 1/1 train loss: 0.105810 Labeled\n",
            "epoch 1/1 train loss: 0.105681 Labeled\n",
            "epoch 1/1 train loss: 0.105662 Labeled\n",
            "epoch 1/1 train loss: 0.105581 Labeled\n",
            "epoch 1/1 train loss: 0.105380 Labeled\n",
            "epoch 1/1 train loss: 0.105653 Labeled\n",
            "epoch 1/1 train loss: 0.106073 Labeled\n",
            "epoch 1/1 train loss: 0.106333 Labeled\n",
            "epoch 1/1 train loss: 0.106646 Labeled\n",
            "epoch 1/1 train loss: 0.106695 Labeled\n",
            "epoch 1/1 train loss: 0.107098 Labeled\n",
            "epoch 1/1 train loss: 0.107123 Labeled\n",
            "epoch 1/1 train loss: 0.107510 Labeled\n",
            "epoch 1/1 train loss: 0.108089 Labeled\n",
            "epoch 1/1 train loss: 0.108159 Labeled\n",
            "epoch 1/1 train loss: 0.107995 Labeled\n",
            "epoch 1/1 train loss: 0.108413 Labeled\n",
            "epoch 1/1 train loss: 0.108510 Labeled\n",
            "END Epoch 1/1 Train loss: 0.108614 \n"
          ]
        }
      ],
      "source": [
        "epoca=0\n",
        "\n",
        "epoca, error = load_checkpoint(model,optimizer)\n",
        "\n",
        "epochs = 1\n",
        "train_losses = []\n",
        "last_epoch = epoca\n",
        "print_every = 5\n",
        "\n",
        "try:\n",
        "    for epoch in range(last_epoch or 0, epochs):\n",
        "        print('Start epoch', epoch+1)\n",
        "        model.train()\n",
        "        running_loss = 0\n",
        "        steps = 0\n",
        "\n",
        "        for x, y in trainingDataLoader:\n",
        "            steps += 1\n",
        "\n",
        "            if epoch == 0 and steps == 1:\n",
        "                print(f'input shape is {x.shape}, labels are {y.shape}')\n",
        "\n",
        "\n",
        "            x=x.view(16,15,3,224,224)                     #batch, frames, c, h, w\n",
        "\n",
        "            optimizer.zero_grad()\n",
        "            logit = model.forward(x.to(device))\n",
        "\n",
        "            loss = criterion(logit, y.to(device))\n",
        "            loss.backward()\n",
        "\n",
        "            optimizer.step()\n",
        "            running_loss += loss.item()\n",
        "\n",
        "\n",
        "            if steps % print_every == 0:\n",
        "                print(f\"epoch {epoch+1}/{epochs} \"\n",
        "                      f\"train loss: {running_loss/steps:.6f} Labeled\")\n",
        "\n",
        "                save_checkpoint(epoch, model, optimizer, loss)\n",
        "\n",
        "        save_model(model)\n",
        "        train_losses.append(running_loss/steps)\n",
        "        print(f\"END Epoch {epoch+1}/{epochs} \"\n",
        "              f\"Train loss: {running_loss/steps:.6f} \")\n",
        "\n",
        "except KeyboardInterrupt:\n",
        "    print('Exiting from training early')"
      ]
    },
    {
      "cell_type": "markdown",
      "source": [
        "**Test**"
      ],
      "metadata": {
        "id": "VyJxtyhexRFg"
      }
    },
    {
      "cell_type": "code",
      "execution_count": null,
      "metadata": {
        "colab": {
          "background_save": true
        },
        "id": "4wWmrEg9dvvF",
        "outputId": "a69f6807-7bde-4466-9ecc-e95cd478bb87"
      },
      "outputs": [
        {
          "name": "stdout",
          "output_type": "stream",
          "text": [
            "                      precision    recall  f1-score   support\n",
            "\n",
            "                LGBT       0.08      0.80      0.14        61\n",
            "              action       0.18      0.99      0.30       189\n",
            "     action_comedies       0.00      0.00      0.00         6\n",
            "           adventure       0.14      0.57      0.23        74\n",
            "   alcohol_addiction       0.00      0.00      0.00         6\n",
            "               alien       0.00      0.00      0.00        12\n",
            "           animation       0.38      0.48      0.43        21\n",
            "            aviation       0.00      0.00      0.00        20\n",
            "        bank_robbery       0.00      0.00      0.00        19\n",
            "              biopic       0.08      0.38      0.13        58\n",
            "             cartoon       0.11      0.14      0.12         7\n",
            "               chase       0.00      0.00      0.00        16\n",
            "            children       0.00      0.00      0.00        12\n",
            "              comedy       0.19      0.96      0.32       210\n",
            "        comedy_drama       0.08      0.59      0.14        63\n",
            "       coming_of_age       0.00      0.00      0.00        11\n",
            "              creepy       0.00      0.00      0.00        10\n",
            "               crime       0.13      0.97      0.24       137\n",
            "                cult       0.00      0.00      0.00         7\n",
            "               death       0.00      0.00      0.00         7\n",
            "       death_penalty       0.00      0.00      0.00         8\n",
            "      disaster_movie       0.00      0.00      0.00        10\n",
            "         documentary       0.00      0.00      0.00        31\n",
            "               drama       0.49      0.99      0.66       540\n",
            "            dystopic       0.10      0.05      0.07        20\n",
            "     erotic_thriller       0.00      0.00      0.00         7\n",
            "           espionage       0.00      0.00      0.00        18\n",
            "              family       0.00      0.00      0.00        11\n",
            "             fantasy       0.15      0.74      0.25        98\n",
            "        fight_scenes       0.00      0.00      0.00        11\n",
            "          friendship       0.00      0.00      0.00         6\n",
            "          futuristic       0.00      0.00      0.00        20\n",
            "            gunfight       0.00      0.00      0.00         9\n",
            "         high_school       0.00      0.00      0.00        11\n",
            "             history       0.00      0.00      0.00        14\n",
            "              horror       0.15      0.93      0.26       136\n",
            "       horror_comedy       0.00      0.00      0.00        26\n",
            "          inbreeding       0.00      0.00      0.00        10\n",
            "             justice       0.00      0.00      0.00        10\n",
            "          loneliness       0.00      0.00      0.00         7\n",
            "                love       0.00      0.00      0.00        20\n",
            "               magic       0.00      0.00      0.00         8\n",
            "        martial_arts       0.00      0.00      0.00        18\n",
            "           melodrama       0.00      0.00      0.00         9\n",
            "            monsters       0.09      0.21      0.12        24\n",
            "              murder       0.00      0.00      0.00        11\n",
            "               music       0.00      0.00      0.00        10\n",
            "             musical       0.09      0.25      0.13        61\n",
            "             mystery       0.09      0.53      0.15        58\n",
            "            neo-noir       0.00      0.00      0.00        14\n",
            "                noir       0.00      0.00      0.00        25\n",
            "              nudity       0.00      0.00      0.00        10\n",
            "          parenthood       0.00      0.00      0.00         9\n",
            "             pirates       0.00      0.00      0.00         6\n",
            "police_investigation       0.00      0.00      0.00        10\n",
            "            politics       0.00      0.00      0.00        13\n",
            "         pornography       0.00      0.00      0.00         4\n",
            "              prison       0.00      0.00      0.00        15\n",
            "        prostitution       0.00      0.00      0.00         5\n",
            "            religion       0.00      0.00      0.00         7\n",
            "             revenge       0.00      0.00      0.00        19\n",
            "            romantic       0.11      0.74      0.20        98\n",
            "     romantic_comedy       0.12      0.79      0.21        86\n",
            "               scifi       0.16      0.84      0.27       111\n",
            "       serial_killer       0.00      0.00      0.00        23\n",
            "              sexual       0.00      0.00      0.00        23\n",
            "          small_town       0.00      0.00      0.00         9\n",
            "               space       0.00      0.00      0.00        16\n",
            "            splatter       0.00      0.00      0.00        25\n",
            "               sport       0.00      0.00      0.00        12\n",
            "          super_hero       0.00      0.00      0.00         9\n",
            "        supernatural       0.10      0.48      0.16        25\n",
            "             surreal       0.00      0.00      0.00         8\n",
            "         suspenseful       0.00      0.00      0.00        14\n",
            "          teen_movie       0.00      0.00      0.00        24\n",
            "           terrorism       0.00      0.00      0.00        14\n",
            "            thriller       0.13      0.99      0.24       139\n",
            "         time_travel       0.00      0.00      0.00        12\n",
            "          true_story       0.00      0.00      0.00        10\n",
            "            vampires       0.00      0.00      0.00        12\n",
            "            violence       0.00      0.00      0.00        20\n",
            "                 war       0.12      0.40      0.18        57\n",
            "             wartime       0.13      0.15      0.14        47\n",
            "             western       0.16      0.21      0.18        33\n",
            "             zombies       0.09      0.13      0.11        15\n",
            "\n",
            "           micro avg       0.17      0.60      0.27      3147\n",
            "           macro avg       0.04      0.17      0.06      3147\n",
            "        weighted avg       0.17      0.60      0.25      3147\n",
            "         samples avg       0.17      0.65      0.26      3147\n",
            "\n"
          ]
        }
      ],
      "source": [
        "topk=10\n",
        "predictions = []\n",
        "y_true = []\n",
        "\n",
        "model.eval()\n",
        "\n",
        "with torch.no_grad():\n",
        "    step = 0\n",
        "    for inputs, labels in testDataLoader:\n",
        "\n",
        "        step += 1\n",
        "        inputs,label = inputs.view(16,15,3,224,224), labels.to(device)\n",
        "        logps = model(inputs.to(device))\n",
        "        y_pred = logps\n",
        "\n",
        "        _, idx = y_pred.topk(topk, dim=1)\n",
        "\n",
        "        y_pred = torch.zeros_like(y_pred)\n",
        "        y_pred.scatter_(1, idx, 1)\n",
        "        predictions.append(y_pred.cpu())\n",
        "\n",
        "        y_true.append(label.cpu())\n",
        "\n",
        "y_true, predictions = torch.cat(y_true, axis=0), torch.cat(predictions, axis=0)\n",
        "report = classification_report(y_true, predictions,\n",
        "                               target_names=list(sorted(label_idx.keys())),zero_division=0)\n",
        "print(report)"
      ]
    }
  ]
}
